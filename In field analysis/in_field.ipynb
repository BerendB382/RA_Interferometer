{
 "cells": [
  {
   "cell_type": "markdown",
   "metadata": {},
   "source": [
    "## This script will analyze the cross-correlation of two signals\n"
   ]
  },
  {
   "cell_type": "code",
   "execution_count": 1,
   "metadata": {},
   "outputs": [],
   "source": [
    "# imports\n",
    "import numpy as np\n",
    "import scipy as sp\n",
    "import matplotlib.pyplot as plt\n",
    "import argparse\n",
    "import astropy.units as u  \n",
    "import os\n",
    "import glob"
   ]
  },
  {
   "cell_type": "code",
   "execution_count": 2,
   "metadata": {},
   "outputs": [],
   "source": [
    "# define some functions\n",
    "# plotting \n",
    "def hdfig(subplots_def=None, scale=0.5):\n",
    "    fig = plt.figure(figsize=(8, 4.5), dpi=scale * 1920 / 8)\n",
    "    if subplots_def is None:\n",
    "        return fig\n",
    "    else:\n",
    "        return fig, fig.subplots(*subplots_def)\n",
    "\n",
    "# Function to calculate cross-correlation matrix\n",
    "def calculate_cross_correlations(data_list):\n",
    "    num_antennas = len(data_list)\n",
    "    cross_corr_matrix = np.zeros((num_antennas, num_antennas), dtype=np.float32)\n",
    "\n",
    "    for i in range(num_antennas):\n",
    "        for j in range(i, num_antennas):\n",
    "            cross_corr = sp.signal.correlate(data_list[i], data_list[j], mode='full')\n",
    "            # Take the maximum value as the correlation strength\n",
    "            max_corr = np.max(np.abs(cross_corr))\n",
    "            cross_corr_matrix[i, j] = max_corr\n",
    "            cross_corr_matrix[j, i] = max_corr  # Ensure symmetry\n",
    "\n",
    "    return cross_corr_matrix\n",
    "\n",
    "# Function to plot the cross-correlation matrix as a heatmap\n",
    "def plot_cross_correlation_matrix(cross_corr_matrix):\n",
    "    plt.figure(figsize=(8, 6))\n",
    "    plt.imshow(cross_corr_matrix, cmap='viridis', interpolation='nearest')\n",
    "    plt.colorbar(label='Correlation Strength')\n",
    "    plt.title(\"Cross-Correlation Matrix\")\n",
    "    plt.xlabel(\"Antenna Index\")\n",
    "    plt.ylabel(\"Antenna Index\")\n",
    "    plt.xticks(range(cross_corr_matrix.shape[0]))\n",
    "    plt.yticks(range(cross_corr_matrix.shape[0]))\n",
    "    plt.show()\n",
    "\n"
   ]
  },
  {
   "cell_type": "code",
   "execution_count": 6,
   "metadata": {},
   "outputs": [
    {
     "name": "stdout",
     "output_type": "stream",
     "text": [
      "['/Users/bjhnieuwhof/Downloads/GPS_clock_airspies/GPS_clock_Airspy0', '/Users/bjhnieuwhof/Downloads/GPS_clock_airspies/GPS_clock_Airspy1']\n",
      "152436313\n"
     ]
    }
   ],
   "source": [
    "# now read in the data\n",
    "\n",
    "# measurement_path = os.path.join(os.path.dirname(__file__), 'measurements')\n",
    "measurement_path = '/Users/bjhnieuwhof/Downloads/GPS_clock_airspies/'\n",
    "files = sorted(glob.glob(measurement_path + '*', recursive=True))\n",
    "print(files)\n",
    "data_per_antenna = [np.fromfile(fil, dtype=np.complex64) for fil in files][:10000]\n",
    "print(len(data_per_antenna[0]))\n",
    "# Sample interval calculation\n",
    "delta_freq = 2.5e6 * u.Hz\n",
    "sample_interval = (1 / (2 * delta_freq)).to(u.s)\n",
    "\n",
    "# Set the window for the plot\n",
    "w = 100000\n",
    "\n"
   ]
  },
  {
   "cell_type": "code",
   "execution_count": null,
   "metadata": {},
   "outputs": [],
   "source": [
    "# help\n",
    "# Calculate and plot cross-correlation matrix\n",
    "cross_correlation_matrix = calculate_cross_correlations(data_per_antenna)\n",
    "plot_cross_correlation_matrix(cross_correlation_matrix)"
   ]
  }
 ],
 "metadata": {
  "kernelspec": {
   "display_name": "RadioAstronomy",
   "language": "python",
   "name": "python3"
  },
  "language_info": {
   "codemirror_mode": {
    "name": "ipython",
    "version": 3
   },
   "file_extension": ".py",
   "mimetype": "text/x-python",
   "name": "python",
   "nbconvert_exporter": "python",
   "pygments_lexer": "ipython3",
   "version": "3.12.6"
  }
 },
 "nbformat": 4,
 "nbformat_minor": 2
}
